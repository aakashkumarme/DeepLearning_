{
  "nbformat": 4,
  "nbformat_minor": 0,
  "metadata": {
    "colab": {
      "name": "Functional API MNIST.ipynb",
      "provenance": [],
      "authorship_tag": "ABX9TyOMalCm3VhdspqHAnJvQV3k",
      "include_colab_link": true
    },
    "kernelspec": {
      "name": "python3",
      "display_name": "Python 3"
    },
    "language_info": {
      "name": "python"
    },
    "accelerator": "GPU"
  },
  "cells": [
    {
      "cell_type": "markdown",
      "metadata": {
        "id": "view-in-github",
        "colab_type": "text"
      },
      "source": [
        "<a href=\"https://colab.research.google.com/github/get2aakash/DeepLearning_/blob/main/Functional_API_MNIST.ipynb\" target=\"_parent\"><img src=\"https://colab.research.google.com/assets/colab-badge.svg\" alt=\"Open In Colab\"/></a>"
      ]
    },
    {
      "cell_type": "code",
      "metadata": {
        "colab": {
          "base_uri": "https://localhost:8080/"
        },
        "id": "BkbtH0zMI8W3",
        "outputId": "e4e07543-2858-4399-b72a-add5f3caa790"
      },
      "source": [
        "import numpy as np\n",
        "from tensorflow.keras.layers import Dense, Dropout, Input\n",
        "from tensorflow.keras.layers import Conv2D, MaxPooling2D, Flatten\n",
        "from tensorflow.keras.models import Model\n",
        "from tensorflow.keras.datasets import mnist\n",
        "from tensorflow.keras.utils import to_categorical\n",
        "# load MNIST dataset\n",
        "(x_train, y_train), (x_test, y_test) = mnist.load_data()\n",
        "# from sparse label to categorical\n",
        "num_labels = len(np.unique(y_train))\n",
        "y_train = to_categorical(y_train)\n",
        "y_test = to_categorical(y_test)\n",
        "# reshape and normalize input images\n",
        "image_size = x_train.shape[1]\n",
        "x_train = np.reshape(x_train,[-1, image_size, image_size, 1])\n",
        "x_test = np.reshape(x_test,[-1, image_size, image_size, 1])\n",
        "x_train = x_train.astype('float32') / 255\n",
        "x_test = x_test.astype('float32') / 255\n",
        "# network parameters\n",
        "input_shape = (image_size, image_size, 1)\n",
        "batch_size = 128\n",
        "kernel_size = 3\n",
        "filters = 64\n",
        "dropout = 0.3"
      ],
      "execution_count": 1,
      "outputs": [
        {
          "output_type": "stream",
          "text": [
            "Downloading data from https://storage.googleapis.com/tensorflow/tf-keras-datasets/mnist.npz\n",
            "11493376/11490434 [==============================] - 0s 0us/step\n"
          ],
          "name": "stdout"
        }
      ]
    },
    {
      "cell_type": "code",
      "metadata": {
        "colab": {
          "base_uri": "https://localhost:8080/"
        },
        "id": "p1F9_YcbJL0N",
        "outputId": "a5a07b9a-c7e0-45ff-9f4c-3783390f2a7a"
      },
      "source": [
        "# use functional API to build cnn layers\n",
        "inputs = Input(shape=input_shape)\n",
        "y = Conv2D(filters=filters,\n",
        "kernel_size=kernel_size,\n",
        "activation='relu')(inputs)\n",
        "y = MaxPooling2D()(y)\n",
        "y = Conv2D(filters=filters,\n",
        "kernel_size=kernel_size,\n",
        "activation='relu')(y)\n",
        "y = MaxPooling2D()(y)\n",
        "y = Conv2D(filters=filters,\n",
        "kernel_size=kernel_size,\n",
        "activation='relu')(y)\n",
        "# image to vector before connecting to dense layer\n",
        "y = Flatten()(y)\n",
        "# dropout regularization\n",
        "y = Dropout(dropout)(y)\n",
        "outputs = Dense(num_labels, activation='softmax')(y)\n",
        "# build the model by supplying inputs/outputs\n",
        "model = Model(inputs=inputs, outputs=outputs)\n",
        "# network model in text\n",
        "model.summary()"
      ],
      "execution_count": 2,
      "outputs": [
        {
          "output_type": "stream",
          "text": [
            "Model: \"model\"\n",
            "_________________________________________________________________\n",
            "Layer (type)                 Output Shape              Param #   \n",
            "=================================================================\n",
            "input_1 (InputLayer)         [(None, 28, 28, 1)]       0         \n",
            "_________________________________________________________________\n",
            "conv2d (Conv2D)              (None, 26, 26, 64)        640       \n",
            "_________________________________________________________________\n",
            "max_pooling2d (MaxPooling2D) (None, 13, 13, 64)        0         \n",
            "_________________________________________________________________\n",
            "conv2d_1 (Conv2D)            (None, 11, 11, 64)        36928     \n",
            "_________________________________________________________________\n",
            "max_pooling2d_1 (MaxPooling2 (None, 5, 5, 64)          0         \n",
            "_________________________________________________________________\n",
            "conv2d_2 (Conv2D)            (None, 3, 3, 64)          36928     \n",
            "_________________________________________________________________\n",
            "flatten (Flatten)            (None, 576)               0         \n",
            "_________________________________________________________________\n",
            "dropout (Dropout)            (None, 576)               0         \n",
            "_________________________________________________________________\n",
            "dense (Dense)                (None, 10)                5770      \n",
            "=================================================================\n",
            "Total params: 80,266\n",
            "Trainable params: 80,266\n",
            "Non-trainable params: 0\n",
            "_________________________________________________________________\n"
          ],
          "name": "stdout"
        }
      ]
    },
    {
      "cell_type": "code",
      "metadata": {
        "id": "8dVC0AW1JOpv"
      },
      "source": [
        "# classifier loss, Adam optimizer, classifier accuracy\n",
        "model.compile(loss='categorical_crossentropy',\n",
        "optimizer='adam',\n",
        "metrics=['accuracy'])"
      ],
      "execution_count": 3,
      "outputs": []
    },
    {
      "cell_type": "code",
      "metadata": {
        "colab": {
          "base_uri": "https://localhost:8080/"
        },
        "id": "TQ2HnQN0JSGW",
        "outputId": "d09b49db-1910-40af-c6ad-64094dac0be3"
      },
      "source": [
        "# train the model with input images and labels\n",
        "model.fit(x_train,\n",
        "y_train,\n",
        "validation_data=(x_test, y_test),\n",
        "epochs=20,\n",
        "batch_size=batch_size)\n",
        "# model accuracy on test dataset\n",
        "score = model.evaluate(x_test,\n",
        "y_test,\n",
        "batch_size=batch_size,\n",
        "verbose=0)\n",
        "print(\"\\nTest accuracy: %.1f%%\" % (100.0 * score[1]))"
      ],
      "execution_count": 4,
      "outputs": [
        {
          "output_type": "stream",
          "text": [
            "Epoch 1/20\n",
            "469/469 [==============================] - 35s 13ms/step - loss: 0.2633 - accuracy: 0.9190 - val_loss: 0.0532 - val_accuracy: 0.9834\n",
            "Epoch 2/20\n",
            "469/469 [==============================] - 6s 12ms/step - loss: 0.0723 - accuracy: 0.9781 - val_loss: 0.0354 - val_accuracy: 0.9882\n",
            "Epoch 3/20\n",
            "469/469 [==============================] - 5s 12ms/step - loss: 0.0509 - accuracy: 0.9841 - val_loss: 0.0348 - val_accuracy: 0.9885\n",
            "Epoch 4/20\n",
            "469/469 [==============================] - 5s 12ms/step - loss: 0.0419 - accuracy: 0.9874 - val_loss: 0.0283 - val_accuracy: 0.9907\n",
            "Epoch 5/20\n",
            "469/469 [==============================] - 5s 12ms/step - loss: 0.0350 - accuracy: 0.9890 - val_loss: 0.0241 - val_accuracy: 0.9911\n",
            "Epoch 6/20\n",
            "469/469 [==============================] - 6s 12ms/step - loss: 0.0310 - accuracy: 0.9902 - val_loss: 0.0230 - val_accuracy: 0.9928\n",
            "Epoch 7/20\n",
            "469/469 [==============================] - 6s 12ms/step - loss: 0.0271 - accuracy: 0.9913 - val_loss: 0.0255 - val_accuracy: 0.9916\n",
            "Epoch 8/20\n",
            "469/469 [==============================] - 6s 12ms/step - loss: 0.0247 - accuracy: 0.9922 - val_loss: 0.0269 - val_accuracy: 0.9907\n",
            "Epoch 9/20\n",
            "469/469 [==============================] - 5s 12ms/step - loss: 0.0210 - accuracy: 0.9931 - val_loss: 0.0225 - val_accuracy: 0.9929\n",
            "Epoch 10/20\n",
            "469/469 [==============================] - 5s 12ms/step - loss: 0.0188 - accuracy: 0.9941 - val_loss: 0.0262 - val_accuracy: 0.9912\n",
            "Epoch 11/20\n",
            "469/469 [==============================] - 6s 12ms/step - loss: 0.0181 - accuracy: 0.9940 - val_loss: 0.0260 - val_accuracy: 0.9912\n",
            "Epoch 12/20\n",
            "469/469 [==============================] - 5s 12ms/step - loss: 0.0162 - accuracy: 0.9947 - val_loss: 0.0242 - val_accuracy: 0.9920\n",
            "Epoch 13/20\n",
            "469/469 [==============================] - 6s 12ms/step - loss: 0.0143 - accuracy: 0.9952 - val_loss: 0.0264 - val_accuracy: 0.9920\n",
            "Epoch 14/20\n",
            "469/469 [==============================] - 6s 12ms/step - loss: 0.0128 - accuracy: 0.9958 - val_loss: 0.0241 - val_accuracy: 0.9928\n",
            "Epoch 15/20\n",
            "469/469 [==============================] - 6s 12ms/step - loss: 0.0114 - accuracy: 0.9964 - val_loss: 0.0300 - val_accuracy: 0.9921\n",
            "Epoch 16/20\n",
            "469/469 [==============================] - 5s 12ms/step - loss: 0.0110 - accuracy: 0.9964 - val_loss: 0.0232 - val_accuracy: 0.9930\n",
            "Epoch 17/20\n",
            "469/469 [==============================] - 5s 12ms/step - loss: 0.0104 - accuracy: 0.9963 - val_loss: 0.0222 - val_accuracy: 0.9932\n",
            "Epoch 18/20\n",
            "469/469 [==============================] - 6s 12ms/step - loss: 0.0096 - accuracy: 0.9967 - val_loss: 0.0263 - val_accuracy: 0.9929\n",
            "Epoch 19/20\n",
            "469/469 [==============================] - 5s 12ms/step - loss: 0.0081 - accuracy: 0.9973 - val_loss: 0.0245 - val_accuracy: 0.9938\n",
            "Epoch 20/20\n",
            "469/469 [==============================] - 6s 12ms/step - loss: 0.0092 - accuracy: 0.9967 - val_loss: 0.0279 - val_accuracy: 0.9923\n",
            "\n",
            "Test accuracy: 99.2%\n"
          ],
          "name": "stdout"
        }
      ]
    }
  ]
}