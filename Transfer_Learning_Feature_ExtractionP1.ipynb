{
  "nbformat": 4,
  "nbformat_minor": 0,
  "metadata": {
    "colab": {
      "name": "Transfer Learning_Feature ExtractionP1.ipynb",
      "provenance": [],
      "authorship_tag": "ABX9TyOv1Utz6uIqVbBd31zE2NVV",
      "include_colab_link": true
    },
    "kernelspec": {
      "name": "python3",
      "display_name": "Python 3"
    },
    "language_info": {
      "name": "python"
    },
    "accelerator": "GPU"
  },
  "cells": [
    {
      "cell_type": "markdown",
      "metadata": {
        "id": "view-in-github",
        "colab_type": "text"
      },
      "source": [
        "<a href=\"https://colab.research.google.com/github/get2aakash/DeepLearning_/blob/main/Transfer_Learning_Feature_ExtractionP1.ipynb\" target=\"_parent\"><img src=\"https://colab.research.google.com/assets/colab-badge.svg\" alt=\"Open In Colab\"/></a>"
      ]
    },
    {
      "cell_type": "markdown",
      "metadata": {
        "id": "UVYegtTiREof"
      },
      "source": [
        "We can leverage a already trained and proved NN ,on similar type of data as ours"
      ]
    },
    {
      "cell_type": "code",
      "metadata": {
        "colab": {
          "base_uri": "https://localhost:8080/"
        },
        "id": "_ga0_VRWPdbS",
        "outputId": "dc18e90a-8445-41e3-a168-e0ed5a480c5e"
      },
      "source": [
        "#Transfer learning with TF - Feature Extraction\n",
        "!nvidia-smi #steps to check GPU"
      ],
      "execution_count": 2,
      "outputs": [
        {
          "output_type": "stream",
          "text": [
            "Fri Jun 11 13:37:43 2021       \n",
            "+-----------------------------------------------------------------------------+\n",
            "| NVIDIA-SMI 465.27       Driver Version: 460.32.03    CUDA Version: 11.2     |\n",
            "|-------------------------------+----------------------+----------------------+\n",
            "| GPU  Name        Persistence-M| Bus-Id        Disp.A | Volatile Uncorr. ECC |\n",
            "| Fan  Temp  Perf  Pwr:Usage/Cap|         Memory-Usage | GPU-Util  Compute M. |\n",
            "|                               |                      |               MIG M. |\n",
            "|===============================+======================+======================|\n",
            "|   0  Tesla K80           Off  | 00000000:00:04.0 Off |                    0 |\n",
            "| N/A   73C    P8    36W / 149W |      0MiB / 11441MiB |      0%      Default |\n",
            "|                               |                      |                  N/A |\n",
            "+-------------------------------+----------------------+----------------------+\n",
            "                                                                               \n",
            "+-----------------------------------------------------------------------------+\n",
            "| Processes:                                                                  |\n",
            "|  GPU   GI   CI        PID   Type   Process name                  GPU Memory |\n",
            "|        ID   ID                                                   Usage      |\n",
            "|=============================================================================|\n",
            "|  No running processes found                                                 |\n",
            "+-----------------------------------------------------------------------------+\n"
          ],
          "name": "stdout"
        }
      ]
    },
    {
      "cell_type": "code",
      "metadata": {
        "colab": {
          "base_uri": "https://localhost:8080/"
        },
        "id": "dEOiAlFwSvEN",
        "outputId": "90bdb154-9353-49b7-9a43-e6ccf2440521"
      },
      "source": [
        "#Get data\n",
        "import zipfile\n",
        "\n",
        "!wget https://storage.googleapis.com/ztm_tf_course/food_vision/10_food_classes_10_percent.zip\n",
        "\n",
        "zip_ref = zipfile.ZipFile(\"10_food_classes_10_percent.zip\")\n",
        "zip_ref.extractall()\n",
        "zip_ref.close()"
      ],
      "execution_count": 3,
      "outputs": [
        {
          "output_type": "stream",
          "text": [
            "--2021-06-11 13:40:32--  https://storage.googleapis.com/ztm_tf_course/food_vision/10_food_classes_10_percent.zip\n",
            "Resolving storage.googleapis.com (storage.googleapis.com)... 142.250.110.128, 142.251.5.128, 74.125.206.128, ...\n",
            "Connecting to storage.googleapis.com (storage.googleapis.com)|142.250.110.128|:443... connected.\n",
            "HTTP request sent, awaiting response... 200 OK\n",
            "Length: 168546183 (161M) [application/zip]\n",
            "Saving to: ‘10_food_classes_10_percent.zip’\n",
            "\n",
            "10_food_classes_10_ 100%[===================>] 160.74M  48.1MB/s    in 3.3s    \n",
            "\n",
            "2021-06-11 13:40:36 (48.1 MB/s) - ‘10_food_classes_10_percent.zip’ saved [168546183/168546183]\n",
            "\n"
          ],
          "name": "stdout"
        }
      ]
    },
    {
      "cell_type": "code",
      "metadata": {
        "colab": {
          "base_uri": "https://localhost:8080/"
        },
        "id": "acL4V70xTYZL",
        "outputId": "1dc1ff75-d8d3-4eb3-e0d0-fd34ac26b152"
      },
      "source": [
        "#how many images in each folder\n",
        "import os\n",
        "\n",
        "for dirpath,dirname,filename in os.walk(\"10_food_classes_10_percent\"):\n",
        "  print(f\"There are {len(dirname)} directories and {len(filename)} images in '{dirpath}'\")"
      ],
      "execution_count": 5,
      "outputs": [
        {
          "output_type": "stream",
          "text": [
            "There are 2 directories and 0 images in '10_food_classes_10_percent'\n",
            "There are 10 directories and 0 images in '10_food_classes_10_percent/train'\n",
            "There are 0 directories and 75 images in '10_food_classes_10_percent/train/chicken_wings'\n",
            "There are 0 directories and 75 images in '10_food_classes_10_percent/train/hamburger'\n",
            "There are 0 directories and 75 images in '10_food_classes_10_percent/train/grilled_salmon'\n",
            "There are 0 directories and 75 images in '10_food_classes_10_percent/train/fried_rice'\n",
            "There are 0 directories and 75 images in '10_food_classes_10_percent/train/ramen'\n",
            "There are 0 directories and 75 images in '10_food_classes_10_percent/train/sushi'\n",
            "There are 0 directories and 75 images in '10_food_classes_10_percent/train/pizza'\n",
            "There are 0 directories and 75 images in '10_food_classes_10_percent/train/chicken_curry'\n",
            "There are 0 directories and 75 images in '10_food_classes_10_percent/train/steak'\n",
            "There are 0 directories and 75 images in '10_food_classes_10_percent/train/ice_cream'\n",
            "There are 10 directories and 0 images in '10_food_classes_10_percent/test'\n",
            "There are 0 directories and 250 images in '10_food_classes_10_percent/test/chicken_wings'\n",
            "There are 0 directories and 250 images in '10_food_classes_10_percent/test/hamburger'\n",
            "There are 0 directories and 250 images in '10_food_classes_10_percent/test/grilled_salmon'\n",
            "There are 0 directories and 250 images in '10_food_classes_10_percent/test/fried_rice'\n",
            "There are 0 directories and 250 images in '10_food_classes_10_percent/test/ramen'\n",
            "There are 0 directories and 250 images in '10_food_classes_10_percent/test/sushi'\n",
            "There are 0 directories and 250 images in '10_food_classes_10_percent/test/pizza'\n",
            "There are 0 directories and 250 images in '10_food_classes_10_percent/test/chicken_curry'\n",
            "There are 0 directories and 250 images in '10_food_classes_10_percent/test/steak'\n",
            "There are 0 directories and 250 images in '10_food_classes_10_percent/test/ice_cream'\n"
          ],
          "name": "stdout"
        }
      ]
    },
    {
      "cell_type": "code",
      "metadata": {
        "colab": {
          "base_uri": "https://localhost:8080/"
        },
        "id": "iGY0R7HYUEK1",
        "outputId": "74ce8ae3-a341-4e55-c3ba-f58b9c79ec7d"
      },
      "source": [
        "#Preparing the data\n",
        "from tensorflow.keras.preprocessing.image import ImageDataGenerator\n",
        "\n",
        "IMAGE_SHAPE = (224,224)\n",
        "BATCH_SIZE = 32\n",
        "\n",
        "train_dir = \"10_food_classes_10_percent/train/\"\n",
        "test_dir = \"10_food_classes_10_percent/test/\"\n",
        "\n",
        "train_datagen = ImageDataGenerator(rescale=1/255.)\n",
        "test_datagen = ImageDataGenerator(rescale=1/255.)\n",
        "\n",
        "print(\"Training Images\")\n",
        "train_data_10_percent = train_datagen.flow_from_directory(train_dir,\n",
        "                                                         target_size=IMAGE_SHAPE,\n",
        "                                                         batch_size=BATCH_SIZE,\n",
        "                                                         class_mode=\"categorical\")\n",
        "\n",
        "\n",
        "print(\"Test Images\")\n",
        "test_data_10_percent = test_datagen.flow_from_directory(test_dir,\n",
        "                                                         target_size=IMAGE_SHAPE,\n",
        "                                                         batch_size=BATCH_SIZE,\n",
        "                                                         class_mode=\"categorical\")\n"
      ],
      "execution_count": 11,
      "outputs": [
        {
          "output_type": "stream",
          "text": [
            "Training Images\n",
            "Found 750 images belonging to 10 classes.\n",
            "Test Images\n",
            "Found 2500 images belonging to 10 classes.\n"
          ],
          "name": "stdout"
        }
      ]
    },
    {
      "cell_type": "code",
      "metadata": {
        "id": "eZKvNMxDYkuL"
      },
      "source": [
        ""
      ],
      "execution_count": null,
      "outputs": []
    },
    {
      "cell_type": "code",
      "metadata": {
        "id": "mDK2v67qVkt3"
      },
      "source": [
        "#setting up callback - functions that can be added to models during or after training\n",
        "#Some of popular callbacks:\n",
        "#1.Tracking experiment with TensorBoard callback\n",
        "#2.Model Checkpoint with ModelCheckpoint callback\n",
        "#3.Stopping a model from over fitting with EarlyStopping callback"
      ],
      "execution_count": 12,
      "outputs": []
    },
    {
      "cell_type": "markdown",
      "metadata": {
        "id": "LaewYqk_XV9c"
      },
      "source": [
        "TensorBoard Callback"
      ]
    },
    {
      "cell_type": "code",
      "metadata": {
        "id": "qcgPAQIDW2bV"
      },
      "source": [
        "import datetime\n",
        "\n",
        "def create_tensorboard_callback(dir_name,experiment_name):\n",
        "  log_dir = dir_name + \"/\" + experiment_name + \"/\" + datetime.datetime.now().strftime(\"%Y%m%d-%H%M%S%\")\n",
        "  tensorboard_callback = tf.keras.callbacks.TensorBoard(log_dir = log_dir) #got this from tf website\n",
        "  print(f\"Saving TF log files to : {log_dir}\")\n",
        "  return tensorboard_callback"
      ],
      "execution_count": 50,
      "outputs": []
    },
    {
      "cell_type": "markdown",
      "metadata": {
        "id": "fL2f_tmlZDYP"
      },
      "source": [
        "Create model from tensorflow Hub from https://tfhub.dev/\n",
        "\n",
        "\n"
      ]
    },
    {
      "cell_type": "code",
      "metadata": {
        "id": "ecakINJWY8BS"
      },
      "source": [
        "#Lets compare following two models\n",
        "\n",
        "resnet_url = \"https://tfhub.dev/google/imagenet/resnet_v2_50/feature_vector/5\"\n",
        "\n",
        "efficient_url = \"https://tfhub.dev/tensorflow/efficientnet/b0/feature-vector/1\""
      ],
      "execution_count": 15,
      "outputs": []
    },
    {
      "cell_type": "code",
      "metadata": {
        "id": "3NAVJgfkcHBx"
      },
      "source": [
        "import tensorflow as tf\n",
        "import tensorflow_hub as hub\n",
        "from tensorflow.keras import layers"
      ],
      "execution_count": 17,
      "outputs": []
    },
    {
      "cell_type": "code",
      "metadata": {
        "id": "qzZDoD9GdYPi"
      },
      "source": [
        "IMAGE_SHAPE + (3,) "
      ],
      "execution_count": null,
      "outputs": []
    },
    {
      "cell_type": "code",
      "metadata": {
        "id": "rRPYexH4cJJl"
      },
      "source": [
        "#create model function\n",
        "\n",
        "def create_model(model_url,num_classes=10):\n",
        "  \"\"\"\n",
        "  Takes a TF url and create keras sequential model with it and returns uncompiled keras sequential model with  model url as feature_extractor layer and dense output layer with num_classes output neurons.\n",
        "  \"\"\"\n",
        "  #Download model\n",
        "  feature_extractor_layer = hub.KerasLayer(model_url,\n",
        "                                           trainable=False,\n",
        "                                           name=\"feature_extraction_layer\",\n",
        "                                           input_shape = IMAGE_SHAPE+(3,))\n",
        "  #Create own model\n",
        "  model = tf.keras.Sequential([\n",
        "                               feature_extractor_layer,\n",
        "                               layers.Dense(num_classes,activation=\"Softmax\",name=\"output_layer\")\n",
        "  ])\n",
        "\n",
        "  return model\n"
      ],
      "execution_count": 29,
      "outputs": []
    },
    {
      "cell_type": "markdown",
      "metadata": {
        "id": "p0vScGK9lr_B"
      },
      "source": [
        "## **Create** resnet model\n"
      ]
    },
    {
      "cell_type": "code",
      "metadata": {
        "id": "xgOPQ9LRd_PY"
      },
      "source": [
        "\n",
        "resnet_model = create_model(resnet_url,\n",
        "                            num_classes=train_data_10_percent.num_classes)"
      ],
      "execution_count": 30,
      "outputs": []
    },
    {
      "cell_type": "code",
      "metadata": {
        "colab": {
          "base_uri": "https://localhost:8080/"
        },
        "id": "ufzCUrQUeH5g",
        "outputId": "b37b5081-5079-4402-c0d9-eb842e7236ed"
      },
      "source": [
        "resnet_model.summary()"
      ],
      "execution_count": 31,
      "outputs": [
        {
          "output_type": "stream",
          "text": [
            "Model: \"sequential\"\n",
            "_________________________________________________________________\n",
            "Layer (type)                 Output Shape              Param #   \n",
            "=================================================================\n",
            "feature_extraction_layer (Ke (None, 2048)              23564800  \n",
            "_________________________________________________________________\n",
            "output_layer (Dense)         (None, 10)                20490     \n",
            "=================================================================\n",
            "Total params: 23,585,290\n",
            "Trainable params: 20,490\n",
            "Non-trainable params: 23,564,800\n",
            "_________________________________________________________________\n"
          ],
          "name": "stdout"
        }
      ]
    },
    {
      "cell_type": "code",
      "metadata": {
        "id": "RosKSQW6fRNq"
      },
      "source": [
        "#Compile resnet model\n",
        "resnet_model.compile(loss=\"categorical_crossentropy\",\n",
        "                     optimizer=tf.keras.optimizers.Adam(),\n",
        "                     metrics=[\"accuracy\"])"
      ],
      "execution_count": 32,
      "outputs": []
    },
    {
      "cell_type": "code",
      "metadata": {
        "colab": {
          "base_uri": "https://localhost:8080/"
        },
        "id": "oXFuFGiPfEVL",
        "outputId": "d4fdedbf-ef35-4253-f9bf-8ea71a823d69"
      },
      "source": [
        "#Lets fit our model to train data\n",
        "resnet_history = resnet_model.fit(train_data_10_percent,\n",
        "                                  epochs=5,\n",
        "                                  steps_per_epoch=len(train_data_10_percent),\n",
        "                                  validation_data=test_data_10_percent,\n",
        "                                  validation_steps=len(test_data_10_percent),\n",
        "                                  callbacks=[create_tensorboard_callback(dir_name=\"tensorflow_hub\",\n",
        "                                                                         experiment_name=\"resnet50V2\"\n",
        "                                                                         )])"
      ],
      "execution_count": 52,
      "outputs": [
        {
          "output_type": "stream",
          "text": [
            "Saving TF log files to : tensorflow_hub/resnet50V2/20210611-144434%\n",
            "Epoch 1/5\n",
            "24/24 [==============================] - 57s 1s/step - loss: 2.1093 - accuracy: 0.2973 - val_loss: 1.2887 - val_accuracy: 0.5908\n",
            "Epoch 2/5\n",
            "24/24 [==============================] - 21s 920ms/step - loss: 0.9542 - accuracy: 0.7307 - val_loss: 0.8668 - val_accuracy: 0.7160\n",
            "Epoch 3/5\n",
            "24/24 [==============================] - 22s 922ms/step - loss: 0.6253 - accuracy: 0.8293 - val_loss: 0.7541 - val_accuracy: 0.7504\n",
            "Epoch 4/5\n",
            "24/24 [==============================] - 22s 922ms/step - loss: 0.4842 - accuracy: 0.8720 - val_loss: 0.7048 - val_accuracy: 0.7644\n",
            "Epoch 5/5\n",
            "24/24 [==============================] - 22s 931ms/step - loss: 0.3780 - accuracy: 0.9267 - val_loss: 0.6655 - val_accuracy: 0.7772\n"
          ],
          "name": "stdout"
        }
      ]
    },
    {
      "cell_type": "code",
      "metadata": {
        "id": "tQmHT51jgaBl"
      },
      "source": [
        "#lets create loss curve\n",
        "import matplotlib.pyplot as plt\n",
        "\n",
        "def plot_loss_curves(history):\n",
        "\n",
        "  loss = history.history[\"loss\"]\n",
        "  val_loss= history.history[\"val_loss\"]\n",
        "  \n",
        "  accuracy = history.history[\"accuracy\"]\n",
        "  val_accuracy = history.history[\"val_accuracy\"]\n",
        "\n",
        "  epochs = range(len(history.history[\"loss\"]))\n",
        "\n",
        "  #plot loss and validation loss\n",
        "  plt.plot(epochs,loss,label=\"training_loss\")\n",
        "  plt.plot(epochs,val_loss,label = \"val_loss\")\n",
        "  plt.title(\"Loss\")\n",
        "  plt.xlabel(\"Epochs\")\n",
        "  plt.legend()\n",
        "\n",
        "  #plot accuracy and validatoin accuracy\n",
        "  plt.figure()\n",
        "  plt.plot(epochs,accuracy,label=\"train_accuracy\")\n",
        "  plt.plot(epochs,val_accuracy,label=\"val_accuracy\")\n",
        "  plt.title(\"Accuracy\")\n",
        "  plt.xlabel(\"Epochs\")\n",
        "  plt.legend();"
      ],
      "execution_count": 55,
      "outputs": []
    },
    {
      "cell_type": "code",
      "metadata": {
        "colab": {
          "base_uri": "https://localhost:8080/",
          "height": 573
        },
        "id": "DrKfGkjvlBjS",
        "outputId": "46dd3e35-3452-4b26-a8a9-6c43ac4bef8d"
      },
      "source": [
        "plot_loss_curves(resnet_history)"
      ],
      "execution_count": 54,
      "outputs": [
        {
          "output_type": "display_data",
          "data": {
            "image/png": "[encoded data removed]",
            "text/plain": [
              "<Figure size 432x288 with 1 Axes>"
            ]
          },
          "metadata": {
            "tags": [],
            "needs_background": "light"
          }
        },
        {
          "output_type": "display_data",
          "data": {
            "image/png": "[encoded data removed]",
            "text/plain": [
              "<Figure size 432x288 with 1 Axes>"
            ]
          },
          "metadata": {
            "tags": [],
            "needs_background": "light"
          }
        }
      ]
    },
    {
      "cell_type": "markdown",
      "metadata": {
        "id": "hGcdVoOulyA2"
      },
      "source": [
        "## **Create** Effecient model\n"
      ]
    },
    {
      "cell_type": "code",
      "metadata": {
        "id": "AiS_mMe2lG1b"
      },
      "source": [
        "#create model\n",
        "efficient_model = create_model(model_url=efficient_url,\n",
        "                            num_classes=train_data_10_percent.num_classes)"
      ],
      "execution_count": 58,
      "outputs": []
    },
    {
      "cell_type": "code",
      "metadata": {
        "id": "87-5DPHemDJN"
      },
      "source": [
        "#compile mode\n",
        "\n",
        "efficient_model.compile(loss=\"categorical_crossentropy\",\n",
        "                     optimizer=tf.keras.optimizers.Adam(),\n",
        "                     metrics=[\"accuracy\"])"
      ],
      "execution_count": 59,
      "outputs": []
    },
    {
      "cell_type": "code",
      "metadata": {
        "colab": {
          "base_uri": "https://localhost:8080/"
        },
        "id": "8KJ8zqMAmRbt",
        "outputId": "27d8b89c-c124-4208-a14e-e7eb7c93f7f4"
      },
      "source": [
        "#fit effienient model\n",
        "efficientnet_history = efficient_model.fit(train_data_10_percent,\n",
        "                                  epochs=10,\n",
        "                                  steps_per_epoch=len(train_data_10_percent),\n",
        "                                  validation_data=test_data_10_percent,\n",
        "                                  validation_steps=len(test_data_10_percent),\n",
        "                                  callbacks=[create_tensorboard_callback(dir_name=\"tensorflow_hub\",\n",
        "                                                                         experiment_name=\"effiecient\"\n",
        "                                                                         )])"
      ],
      "execution_count": 64,
      "outputs": [
        {
          "output_type": "stream",
          "text": [
            "Saving TF log files to : tensorflow_hub/effiecient/20210611-151010%\n",
            "Epoch 1/10\n",
            "24/24 [==============================] - 21s 905ms/step - loss: 0.4526 - accuracy: 0.9053 - val_loss: 0.5257 - val_accuracy: 0.8668\n",
            "Epoch 2/10\n",
            "24/24 [==============================] - 19s 819ms/step - loss: 0.3986 - accuracy: 0.9213 - val_loss: 0.5010 - val_accuracy: 0.8684\n",
            "Epoch 3/10\n",
            "24/24 [==============================] - 19s 824ms/step - loss: 0.3525 - accuracy: 0.9387 - val_loss: 0.4810 - val_accuracy: 0.8724\n",
            "Epoch 4/10\n",
            "24/24 [==============================] - 19s 810ms/step - loss: 0.3173 - accuracy: 0.9547 - val_loss: 0.4640 - val_accuracy: 0.8728\n",
            "Epoch 5/10\n",
            "24/24 [==============================] - 19s 826ms/step - loss: 0.2878 - accuracy: 0.9600 - val_loss: 0.4487 - val_accuracy: 0.8748\n",
            "Epoch 6/10\n",
            "24/24 [==============================] - 19s 815ms/step - loss: 0.2611 - accuracy: 0.9667 - val_loss: 0.4412 - val_accuracy: 0.8740\n",
            "Epoch 7/10\n",
            "24/24 [==============================] - 19s 819ms/step - loss: 0.2388 - accuracy: 0.9707 - val_loss: 0.4317 - val_accuracy: 0.8752\n",
            "Epoch 8/10\n",
            "24/24 [==============================] - 19s 813ms/step - loss: 0.2198 - accuracy: 0.9720 - val_loss: 0.4244 - val_accuracy: 0.8748\n",
            "Epoch 9/10\n",
            "24/24 [==============================] - 19s 816ms/step - loss: 0.2004 - accuracy: 0.9773 - val_loss: 0.4176 - val_accuracy: 0.8740\n",
            "Epoch 10/10\n",
            "24/24 [==============================] - 19s 815ms/step - loss: 0.1863 - accuracy: 0.9787 - val_loss: 0.4117 - val_accuracy: 0.8764\n"
          ],
          "name": "stdout"
        }
      ]
    },
    {
      "cell_type": "code",
      "metadata": {
        "colab": {
          "base_uri": "https://localhost:8080/",
          "height": 573
        },
        "id": "oezGY7CRnYSN",
        "outputId": "d01f6e82-bcf7-4d13-dc63-9ac277f084c2"
      },
      "source": [
        "plot_loss_curves(efficientnet_history)"
      ],
      "execution_count": 65,
      "outputs": [
        {
          "output_type": "display_data",
          "data": {
            "image/png": "[encoded data removed]",
            "text/plain": [
              "<Figure size 432x288 with 1 Axes>"
            ]
          },
          "metadata": {
            "tags": [],
            "needs_background": "light"
          }
        },
        {
          "output_type": "display_data",
          "data": {
            "image/png": "[encoded data removed]",
            "text/plain": [
              "<Figure size 432x288 with 1 Axes>"
            ]
          },
          "metadata": {
            "tags": [],
            "needs_background": "light"
          }
        }
      ]
    },
    {
      "cell_type": "code",
      "metadata": {
        "colab": {
          "base_uri": "https://localhost:8080/"
        },
        "id": "illS4jrenjBK",
        "outputId": "c59ab68b-3aab-43c0-91fd-a15cec9ce01a"
      },
      "source": [
        "efficient_model.summary()"
      ],
      "execution_count": 66,
      "outputs": [
        {
          "output_type": "stream",
          "text": [
            "Model: \"sequential_2\"\n",
            "_________________________________________________________________\n",
            "Layer (type)                 Output Shape              Param #   \n",
            "=================================================================\n",
            "feature_extraction_layer (Ke (None, 1280)              4049564   \n",
            "_________________________________________________________________\n",
            "output_layer (Dense)         (None, 10)                12810     \n",
            "=================================================================\n",
            "Total params: 4,062,374\n",
            "Trainable params: 12,810\n",
            "Non-trainable params: 4,049,564\n",
            "_________________________________________________________________\n"
          ],
          "name": "stdout"
        }
      ]
    },
    {
      "cell_type": "markdown",
      "metadata": {
        "id": "rPxFW5SIpBkc"
      },
      "source": [
        "Types of transfer learning\n",
        "\n",
        "\n",
        "1.   As is transfer learning\n",
        "2.   Feature extraction (this notebook)\n",
        "3.   Fine tuning "
      ]
    },
    {
      "cell_type": "markdown",
      "metadata": {
        "id": "LjFIjaTWqQ49"
      },
      "source": [
        "### **TensorBoard**"
      ]
    },
    {
      "cell_type": "code",
      "metadata": {
        "colab": {
          "base_uri": "https://localhost:8080/"
        },
        "id": "66n7v4dxovYU",
        "outputId": "6f5abf9f-b574-4238-fb84-f5a06fe8b912"
      },
      "source": [
        "#Upload Tensorboard dev records\n",
        "!tensorboard dev upload --logdir ./content/tensorflow_hub/ \\\n",
        "  --name \"Effecient net vs ResNet\" \\\n",
        "  --description \"Comparing two different feature extraction model architecture\" \\\n",
        "  --one_shot"
      ],
      "execution_count": null,
      "outputs": [
        {
          "output_type": "stream",
          "text": [
            "2021-06-11 15:45:15.772722: I tensorflow/stream_executor/platform/default/dso_loader.cc:53] Successfully opened dynamic library libcudart.so.11.0\n",
            "\n",
            "***** TensorBoard Uploader *****\n",
            "\n",
            "This will upload your TensorBoard logs to https://tensorboard.dev/ from\n",
            "the following directory:\n",
            "\n",
            "./content/tensorflow_hub/\n",
            "\n",
            "This TensorBoard will be visible to everyone. Do not upload sensitive\n",
            "data.\n",
            "\n",
            "Your use of this service is subject to Google's Terms of Service\n",
            "<https://policies.google.com/terms> and Privacy Policy\n",
            "<https://policies.google.com/privacy>, and TensorBoard.dev's Terms of Service\n",
            "<https://tensorboard.dev/policy/terms/>.\n",
            "\n",
            "This notice will not be shown again while you are logged into the uploader.\n",
            "To log out, run `tensorboard dev auth revoke`.\n",
            "\n",
            "Continue? (yes/NO) "
          ],
          "name": "stdout"
        }
      ]
    }
  ]
}