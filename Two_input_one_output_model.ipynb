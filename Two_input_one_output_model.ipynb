{
  "nbformat": 4,
  "nbformat_minor": 0,
  "metadata": {
    "colab": {
      "name": "Two input one output model.ipynb",
      "provenance": [],
      "authorship_tag": "ABX9TyNLyd8Rb6oakw2XWoG23gR0",
      "include_colab_link": true
    },
    "kernelspec": {
      "name": "python3",
      "display_name": "Python 3"
    },
    "language_info": {
      "name": "python"
    },
    "accelerator": "GPU"
  },
  "cells": [
    {
      "cell_type": "markdown",
      "metadata": {
        "id": "view-in-github",
        "colab_type": "text"
      },
      "source": [
        "<a href=\"https://colab.research.google.com/github/get2aakash/DeepLearning_/blob/main/Two_input_one_output_model.ipynb\" target=\"_parent\"><img src=\"https://colab.research.google.com/assets/colab-badge.svg\" alt=\"Open In Colab\"/></a>"
      ]
    },
    {
      "cell_type": "code",
      "metadata": {
        "colab": {
          "base_uri": "https://localhost:8080/"
        },
        "id": "nedFdxZwMEh3",
        "outputId": "acfd11ce-d0cd-420b-9b22-37af100350ee"
      },
      "source": [
        "import numpy as np\n",
        "from tensorflow.keras.layers import Dense, Dropout, Input\n",
        "from tensorflow.keras.layers import Conv2D, MaxPooling2D\n",
        "from tensorflow.keras.layers import Flatten, concatenate\n",
        "from tensorflow.keras.models import Model\n",
        "from tensorflow.keras.datasets import mnist\n",
        "from tensorflow.keras.utils import to_categorical\n",
        "from tensorflow.keras.utils import plot_model\n",
        "from tensorflow.keras.utils import to_categorical\n",
        "from tensorflow.keras.utils import plot_model\n",
        "# load MNIST dataset\n",
        "(x_train, y_train), (x_test, y_test) = mnist.load_data()\n",
        "# from sparse label to categorical\n",
        "num_labels = len(np.unique(y_train))\n",
        "y_train = to_categorical(y_train)\n",
        "y_test = to_categorical(y_test)\n",
        "# reshape and normalize input images\n",
        "image_size = x_train.shape[1]\n",
        "x_train = np.reshape(x_train,[-1, image_size, image_size, 1])\n",
        "x_test = np.reshape(x_test,[-1, image_size, image_size, 1])\n",
        "x_train = x_train.astype('float32') / 255\n",
        "x_test = x_test.astype('float32') / 255\n",
        "# network parameters\n",
        "input_shape = (image_size, image_size, 1)\n",
        "batch_size = 32\n",
        "kernel_size = 3\n",
        "dropout = 0.4\n",
        "n_filters = 32"
      ],
      "execution_count": 4,
      "outputs": [
        {
          "output_type": "stream",
          "text": [
            "Downloading data from https://storage.googleapis.com/tensorflow/tf-keras-datasets/mnist.npz\n",
            "11493376/11490434 [==============================] - 0s 0us/step\n"
          ],
          "name": "stdout"
        }
      ]
    },
    {
      "cell_type": "code",
      "metadata": {
        "id": "_AUxdpjKMjZN"
      },
      "source": [
        "# left branch of Y network\n",
        "left_inputs = Input(shape=input_shape)\n",
        "x = left_inputs\n",
        "filters = n_filters\n",
        "# 3 layers of Conv2D-Dropout-MaxPooling2D\n",
        "# number of filters doubles after each layer (32-64-128)\n",
        "for i in range(3):\n",
        "  x = Conv2D(filters=filters,\n",
        "  kernel_size=kernel_size,\n",
        "  padding='same',\n",
        "  activation='relu')(x)\n",
        "  x = Dropout(dropout)(x)\n",
        "  x = MaxPooling2D()(x)\n",
        "  filters *= 2"
      ],
      "execution_count": 6,
      "outputs": []
    },
    {
      "cell_type": "code",
      "metadata": {
        "id": "eFw_-NVSMwKm"
      },
      "source": [
        "# right branch of Y network\n",
        "right_inputs = Input(shape=input_shape)\n",
        "y = right_inputs\n",
        "filters = n_filters\n",
        "# 3 layers of Conv2D-Dropout-MaxPooling2Do\n",
        "# number of filters doubles after each layer (32-64-128)\n",
        "for i in range(3):\n",
        " y = Conv2D(filters=filters,\n",
        " kernel_size=kernel_size,\n",
        " padding='same',\n",
        " activation='relu',\n",
        " dilation_rate=2)(y)\n",
        " y = Dropout(dropout)(y)\n",
        " y = MaxPooling2D()(y)\n",
        " filters *= 2"
      ],
      "execution_count": 9,
      "outputs": []
    },
    {
      "cell_type": "code",
      "metadata": {
        "colab": {
          "base_uri": "https://localhost:8080/"
        },
        "id": "9Wi6J3wuM9Uj",
        "outputId": "3524215d-c412-4668-d1db-9214707ee65e"
      },
      "source": [
        "# merge left and right branches outputs\n",
        "y = concatenate([x, y])\n",
        "# feature maps to vector before connecting to Dense\n",
        "y = Flatten()(y)\n",
        "y = Dropout(dropout)(y)\n",
        "outputs = Dense(num_labels, activation='softmax')(y)\n",
        "# build the model in functional API\n",
        "model = Model([left_inputs, right_inputs], outputs)\n",
        "# verify the model using graph\n",
        "plot_model(model, to_file='cnn-y-network.png', show_shapes=True)\n",
        "# verify the model using layer text description\n",
        "model.summary()\n",
        "# classifier loss, Adam optimizer, classifier accuracy\n",
        "model.compile(loss='categorical_crossentropy',\n",
        "optimizer='adam',\n",
        "metrics=['accuracy'])\n",
        "# train the model with input images and labels\n",
        "model.fit([x_train, x_train],\n",
        "y_train,\n",
        "validation_data=([x_test, x_test], y_test),\n",
        "epochs=20,\n",
        "batch_size=batch_size)\n",
        "# model accuracy on test dataset\n",
        "score = model.evaluate([x_test, x_test],\n",
        "y_test,\n",
        "batch_size=batch_size,\n",
        "verbose=0)\n",
        "print(\"\\nTest accuracy: %.1f%%\" % (100.0 * score[1]))"
      ],
      "execution_count": 10,
      "outputs": [
        {
          "output_type": "stream",
          "text": [
            "Model: \"model\"\n",
            "__________________________________________________________________________________________________\n",
            "Layer (type)                    Output Shape         Param #     Connected to                     \n",
            "==================================================================================================\n",
            "input_2 (InputLayer)            [(None, 28, 28, 1)]  0                                            \n",
            "__________________________________________________________________________________________________\n",
            "input_3 (InputLayer)            [(None, 28, 28, 1)]  0                                            \n",
            "__________________________________________________________________________________________________\n",
            "conv2d_3 (Conv2D)               (None, 28, 28, 32)   320         input_2[0][0]                    \n",
            "__________________________________________________________________________________________________\n",
            "conv2d_6 (Conv2D)               (None, 28, 28, 32)   320         input_3[0][0]                    \n",
            "__________________________________________________________________________________________________\n",
            "dropout_3 (Dropout)             (None, 28, 28, 32)   0           conv2d_3[0][0]                   \n",
            "__________________________________________________________________________________________________\n",
            "dropout_6 (Dropout)             (None, 28, 28, 32)   0           conv2d_6[0][0]                   \n",
            "__________________________________________________________________________________________________\n",
            "max_pooling2d_3 (MaxPooling2D)  (None, 14, 14, 32)   0           dropout_3[0][0]                  \n",
            "__________________________________________________________________________________________________\n",
            "max_pooling2d_6 (MaxPooling2D)  (None, 14, 14, 32)   0           dropout_6[0][0]                  \n",
            "__________________________________________________________________________________________________\n",
            "conv2d_4 (Conv2D)               (None, 14, 14, 64)   18496       max_pooling2d_3[0][0]            \n",
            "__________________________________________________________________________________________________\n",
            "conv2d_7 (Conv2D)               (None, 14, 14, 64)   18496       max_pooling2d_6[0][0]            \n",
            "__________________________________________________________________________________________________\n",
            "dropout_4 (Dropout)             (None, 14, 14, 64)   0           conv2d_4[0][0]                   \n",
            "__________________________________________________________________________________________________\n",
            "dropout_7 (Dropout)             (None, 14, 14, 64)   0           conv2d_7[0][0]                   \n",
            "__________________________________________________________________________________________________\n",
            "max_pooling2d_4 (MaxPooling2D)  (None, 7, 7, 64)     0           dropout_4[0][0]                  \n",
            "__________________________________________________________________________________________________\n",
            "max_pooling2d_7 (MaxPooling2D)  (None, 7, 7, 64)     0           dropout_7[0][0]                  \n",
            "__________________________________________________________________________________________________\n",
            "conv2d_5 (Conv2D)               (None, 7, 7, 128)    73856       max_pooling2d_4[0][0]            \n",
            "__________________________________________________________________________________________________\n",
            "conv2d_8 (Conv2D)               (None, 7, 7, 128)    73856       max_pooling2d_7[0][0]            \n",
            "__________________________________________________________________________________________________\n",
            "dropout_5 (Dropout)             (None, 7, 7, 128)    0           conv2d_5[0][0]                   \n",
            "__________________________________________________________________________________________________\n",
            "dropout_8 (Dropout)             (None, 7, 7, 128)    0           conv2d_8[0][0]                   \n",
            "__________________________________________________________________________________________________\n",
            "max_pooling2d_5 (MaxPooling2D)  (None, 3, 3, 128)    0           dropout_5[0][0]                  \n",
            "__________________________________________________________________________________________________\n",
            "max_pooling2d_8 (MaxPooling2D)  (None, 3, 3, 128)    0           dropout_8[0][0]                  \n",
            "__________________________________________________________________________________________________\n",
            "concatenate (Concatenate)       (None, 3, 3, 256)    0           max_pooling2d_5[0][0]            \n",
            "                                                                 max_pooling2d_8[0][0]            \n",
            "__________________________________________________________________________________________________\n",
            "flatten (Flatten)               (None, 2304)         0           concatenate[0][0]                \n",
            "__________________________________________________________________________________________________\n",
            "dropout_9 (Dropout)             (None, 2304)         0           flatten[0][0]                    \n",
            "__________________________________________________________________________________________________\n",
            "dense (Dense)                   (None, 10)           23050       dropout_9[0][0]                  \n",
            "==================================================================================================\n",
            "Total params: 208,394\n",
            "Trainable params: 208,394\n",
            "Non-trainable params: 0\n",
            "__________________________________________________________________________________________________\n",
            "Epoch 1/20\n",
            "1875/1875 [==============================] - 43s 6ms/step - loss: 0.1751 - accuracy: 0.9446 - val_loss: 0.1416 - val_accuracy: 0.9874\n",
            "Epoch 2/20\n",
            "1875/1875 [==============================] - 11s 6ms/step - loss: 0.0703 - accuracy: 0.9782 - val_loss: 0.1150 - val_accuracy: 0.9874\n",
            "Epoch 3/20\n",
            "1875/1875 [==============================] - 11s 6ms/step - loss: 0.0549 - accuracy: 0.9829 - val_loss: 0.0724 - val_accuracy: 0.9909\n",
            "Epoch 4/20\n",
            "1875/1875 [==============================] - 11s 6ms/step - loss: 0.0480 - accuracy: 0.9852 - val_loss: 0.0662 - val_accuracy: 0.9928\n",
            "Epoch 5/20\n",
            "1875/1875 [==============================] - 11s 6ms/step - loss: 0.0438 - accuracy: 0.9862 - val_loss: 0.0572 - val_accuracy: 0.9924\n",
            "Epoch 6/20\n",
            "1875/1875 [==============================] - 11s 6ms/step - loss: 0.0424 - accuracy: 0.9869 - val_loss: 0.0692 - val_accuracy: 0.9939\n",
            "Epoch 7/20\n",
            "1875/1875 [==============================] - 11s 6ms/step - loss: 0.0368 - accuracy: 0.9885 - val_loss: 0.0569 - val_accuracy: 0.9899\n",
            "Epoch 8/20\n",
            "1875/1875 [==============================] - 11s 6ms/step - loss: 0.0360 - accuracy: 0.9890 - val_loss: 0.0562 - val_accuracy: 0.9909\n",
            "Epoch 9/20\n",
            "1875/1875 [==============================] - 11s 6ms/step - loss: 0.0353 - accuracy: 0.9897 - val_loss: 0.0506 - val_accuracy: 0.9927\n",
            "Epoch 10/20\n",
            "1875/1875 [==============================] - 11s 6ms/step - loss: 0.0322 - accuracy: 0.9899 - val_loss: 0.0496 - val_accuracy: 0.9938\n",
            "Epoch 11/20\n",
            "1875/1875 [==============================] - 11s 6ms/step - loss: 0.0320 - accuracy: 0.9898 - val_loss: 0.0430 - val_accuracy: 0.9924\n",
            "Epoch 12/20\n",
            "1875/1875 [==============================] - 11s 6ms/step - loss: 0.0302 - accuracy: 0.9907 - val_loss: 0.0405 - val_accuracy: 0.9896\n",
            "Epoch 13/20\n",
            "1875/1875 [==============================] - 11s 6ms/step - loss: 0.0310 - accuracy: 0.9904 - val_loss: 0.0405 - val_accuracy: 0.9925\n",
            "Epoch 14/20\n",
            "1875/1875 [==============================] - 11s 6ms/step - loss: 0.0313 - accuracy: 0.9905 - val_loss: 0.0464 - val_accuracy: 0.9915\n",
            "Epoch 15/20\n",
            "1875/1875 [==============================] - 11s 6ms/step - loss: 0.0313 - accuracy: 0.9905 - val_loss: 0.0432 - val_accuracy: 0.9926\n",
            "Epoch 16/20\n",
            "1875/1875 [==============================] - 11s 6ms/step - loss: 0.0298 - accuracy: 0.9909 - val_loss: 0.0399 - val_accuracy: 0.9935\n",
            "Epoch 17/20\n",
            "1875/1875 [==============================] - 11s 6ms/step - loss: 0.0324 - accuracy: 0.9902 - val_loss: 0.0397 - val_accuracy: 0.9937\n",
            "Epoch 18/20\n",
            "1875/1875 [==============================] - 11s 6ms/step - loss: 0.0287 - accuracy: 0.9914 - val_loss: 0.0297 - val_accuracy: 0.9941\n",
            "Epoch 19/20\n",
            "1875/1875 [==============================] - 11s 6ms/step - loss: 0.0307 - accuracy: 0.9906 - val_loss: 0.0345 - val_accuracy: 0.9933\n",
            "Epoch 20/20\n",
            "1875/1875 [==============================] - 11s 6ms/step - loss: 0.0301 - accuracy: 0.9906 - val_loss: 0.0552 - val_accuracy: 0.9907\n",
            "\n",
            "Test accuracy: 99.1%\n"
          ],
          "name": "stdout"
        }
      ]
    }
  ]
}