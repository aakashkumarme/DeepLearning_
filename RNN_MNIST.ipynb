{
  "nbformat": 4,
  "nbformat_minor": 0,
  "metadata": {
    "colab": {
      "name": "RNN-MNIST.ipynb",
      "provenance": [],
      "authorship_tag": "ABX9TyPfsRSKPqysmd35fEaicRYg",
      "include_colab_link": true
    },
    "kernelspec": {
      "name": "python3",
      "display_name": "Python 3"
    },
    "language_info": {
      "name": "python"
    },
    "accelerator": "GPU"
  },
  "cells": [
    {
      "cell_type": "markdown",
      "metadata": {
        "id": "view-in-github",
        "colab_type": "text"
      },
      "source": [
        "<a href=\"https://colab.research.google.com/github/get2aakash/DeepLearning_/blob/main/RNN_MNIST.ipynb\" target=\"_parent\"><img src=\"https://colab.research.google.com/assets/colab-badge.svg\" alt=\"Open In Colab\"/></a>"
      ]
    },
    {
      "cell_type": "code",
      "metadata": {
        "colab": {
          "base_uri": "https://localhost:8080/"
        },
        "id": "7rqFUbpc45ID",
        "outputId": "c3582416-b517-437b-8d98-43c324399bb8"
      },
      "source": [
        "import numpy as np\n",
        "from tensorflow.keras.models import Sequential\n",
        "from tensorflow.keras.layers import Dense, Activation, SimpleRNN\n",
        "from tensorflow.keras.utils import to_categorical, plot_model\n",
        "from tensorflow.keras.datasets import mnist\n",
        "# load mnist dataset\n",
        "(x_train, y_train), (x_test, y_test) = mnist.load_data()\n",
        "# compute the number of labels\n",
        "num_labels = len(np.unique(y_train))\n",
        "# convert to one-hot vector\n",
        "y_train = to_categorical(y_train)\n",
        "y_test = to_categorical(y_test)\n",
        "# resize and normalize\n",
        "image_size = x_train.shape[1]\n",
        "x_train = np.reshape(x_train,[-1, image_size, image_size])\n",
        "x_test = np.reshape(x_test,[-1, image_size, image_size])\n",
        "x_train = x_train.astype('float32') / 255\n",
        "x_test = x_test.astype('float32') / 255\n",
        "# network parameters\n",
        "input_shape = (image_size, image_size)\n",
        "batch_size = 128\n",
        "units = 256\n",
        "dropout = 0.2"
      ],
      "execution_count": 1,
      "outputs": [
        {
          "output_type": "stream",
          "text": [
            "Downloading data from https://storage.googleapis.com/tensorflow/tf-keras-datasets/mnist.npz\n",
            "11493376/11490434 [==============================] - 0s 0us/step\n"
          ],
          "name": "stdout"
        }
      ]
    },
    {
      "cell_type": "code",
      "metadata": {
        "colab": {
          "base_uri": "https://localhost:8080/",
          "height": 658
        },
        "id": "4Aw6Hll15CBr",
        "outputId": "55dee4ab-cf71-4249-d4fa-b274693f04cd"
      },
      "source": [
        "# model is RNN with 256 units, input is 28-dim vector 28 timesteps\n",
        "model = Sequential()\n",
        "model.add(SimpleRNN(units=units,\n",
        "dropout=dropout,\n",
        "input_shape=input_shape))\n",
        "model.add(Dense(num_labels))\n",
        "model.add(Activation('softmax'))\n",
        "model.summary()\n",
        "plot_model(model, to_file='rnn-mnist.png', show_shapes=True)"
      ],
      "execution_count": 2,
      "outputs": [
        {
          "output_type": "stream",
          "text": [
            "Model: \"sequential\"\n",
            "_________________________________________________________________\n",
            "Layer (type)                 Output Shape              Param #   \n",
            "=================================================================\n",
            "simple_rnn (SimpleRNN)       (None, 256)               72960     \n",
            "_________________________________________________________________\n",
            "dense (Dense)                (None, 10)                2570      \n",
            "_________________________________________________________________\n",
            "activation (Activation)      (None, 10)                0         \n",
            "=================================================================\n",
            "Total params: 75,530\n",
            "Trainable params: 75,530\n",
            "Non-trainable params: 0\n",
            "_________________________________________________________________\n"
          ],
          "name": "stdout"
        },
        {
          "output_type": "execute_result",
          "data": {
            "image/png": "[encoded data removed]",
            "text/plain": [
              "<IPython.core.display.Image object>"
            ]
          },
          "metadata": {
            "tags": []
          },
          "execution_count": 2
        }
      ]
    },
    {
      "cell_type": "code",
      "metadata": {
        "colab": {
          "base_uri": "https://localhost:8080/"
        },
        "id": "JwCf0mA-5NOn",
        "outputId": "ba00b8d0-e5b9-4c71-be9c-ca6e90c585c0"
      },
      "source": [
        "# loss function for one-hot vector\n",
        "# use of sgd optimizer\n",
        "# accuracy is good metric for classification tasks\n",
        "model.compile(loss='categorical_crossentropy',\n",
        "optimizer='sgd',\n",
        "metrics=['accuracy'])\n",
        "# train the network\n",
        "model.fit(x_train, y_train, epochs=20, batch_size=batch_size)\n",
        "_, acc = model.evaluate(x_test,\n",
        "y_test,\n",
        "batch_size=batch_size,\n",
        "verbose=0)\n",
        "print(\"\\nTest accuracy: %.1f%%\" % (100.0 * acc))"
      ],
      "execution_count": 3,
      "outputs": [
        {
          "output_type": "stream",
          "text": [
            "Epoch 1/20\n",
            "469/469 [==============================] - 16s 27ms/step - loss: 0.7690 - accuracy: 0.7733\n",
            "Epoch 2/20\n",
            "469/469 [==============================] - 13s 27ms/step - loss: 0.3406 - accuracy: 0.8994\n",
            "Epoch 3/20\n",
            "469/469 [==============================] - 13s 27ms/step - loss: 0.2483 - accuracy: 0.9255\n",
            "Epoch 4/20\n",
            "469/469 [==============================] - 13s 28ms/step - loss: 0.2016 - accuracy: 0.9395\n",
            "Epoch 5/20\n",
            "469/469 [==============================] - 12s 26ms/step - loss: 0.1720 - accuracy: 0.9488\n",
            "Epoch 6/20\n",
            "469/469 [==============================] - 12s 26ms/step - loss: 0.1549 - accuracy: 0.9535\n",
            "Epoch 7/20\n",
            "469/469 [==============================] - 12s 25ms/step - loss: 0.1379 - accuracy: 0.9585\n",
            "Epoch 8/20\n",
            "469/469 [==============================] - 12s 26ms/step - loss: 0.1294 - accuracy: 0.9604\n",
            "Epoch 9/20\n",
            "469/469 [==============================] - 13s 28ms/step - loss: 0.1199 - accuracy: 0.9638\n",
            "Epoch 10/20\n",
            "469/469 [==============================] - 12s 27ms/step - loss: 0.1112 - accuracy: 0.9667\n",
            "Epoch 11/20\n",
            "469/469 [==============================] - 12s 25ms/step - loss: 0.1060 - accuracy: 0.9686\n",
            "Epoch 12/20\n",
            "469/469 [==============================] - 12s 25ms/step - loss: 0.0998 - accuracy: 0.9699\n",
            "Epoch 13/20\n",
            "469/469 [==============================] - 12s 25ms/step - loss: 0.0948 - accuracy: 0.9702\n",
            "Epoch 14/20\n",
            "469/469 [==============================] - 13s 28ms/step - loss: 0.0891 - accuracy: 0.9727\n",
            "Epoch 15/20\n",
            "469/469 [==============================] - 13s 27ms/step - loss: 0.0848 - accuracy: 0.9743\n",
            "Epoch 16/20\n",
            "469/469 [==============================] - 12s 27ms/step - loss: 0.0843 - accuracy: 0.9739\n",
            "Epoch 17/20\n",
            "469/469 [==============================] - 12s 26ms/step - loss: 0.0801 - accuracy: 0.9757\n",
            "Epoch 18/20\n",
            "469/469 [==============================] - 12s 25ms/step - loss: 0.0754 - accuracy: 0.9772\n",
            "Epoch 19/20\n",
            "469/469 [==============================] - 13s 27ms/step - loss: 0.0745 - accuracy: 0.9772\n",
            "Epoch 20/20\n",
            "469/469 [==============================] - 13s 28ms/step - loss: 0.0708 - accuracy: 0.9784\n",
            "\n",
            "Test accuracy: 97.3%\n"
          ],
          "name": "stdout"
        }
      ]
    },
    {
      "cell_type": "code",
      "metadata": {
        "id": "YnzBneJJ5wBE"
      },
      "source": [
        ""
      ],
      "execution_count": null,
      "outputs": []
    }
  ]
}